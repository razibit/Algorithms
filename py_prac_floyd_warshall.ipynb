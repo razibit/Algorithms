{
 "cells": [
  {
   "cell_type": "code",
   "execution_count": 4,
   "metadata": {},
   "outputs": [
    {
     "name": "stdout",
     "output_type": "stream",
     "text": [
      "[0, 3, 1000000000, 7]\n"
     ]
    }
   ],
   "source": [
    "INF = 10**9\n",
    "row = ['0', '3', 'inf', '7']\n",
    "row = [int(x) if x != 'inf' else INF for x in row]\n",
    "print(row)\n"
   ]
  },
  {
   "cell_type": "code",
   "execution_count": 5,
   "metadata": {},
   "outputs": [],
   "source": [
    "def floyd_warshall():\n",
    "    INF = 10**9\n",
    "\n",
    "    n = int(input(\"Enter the number of vertices in the graph: \"))\n",
    "    print(\"Enter the adjacency matrix row by row:\")\n",
    "\n",
    "    graph = []\n",
    "\n",
    "    for i in range(n):\n",
    "        row = input(f\"Row{i+1}: \").split()\n",
    "\n",
    "        row = [int(x) if x!= 'inf' else INF for x in row]\n",
    "        graph.append(row)"
   ]
  },
  {
   "cell_type": "code",
   "execution_count": null,
   "metadata": {},
   "outputs": [],
   "source": []
  }
 ],
 "metadata": {
  "kernelspec": {
   "display_name": "Python 3",
   "language": "python",
   "name": "python3"
  },
  "language_info": {
   "codemirror_mode": {
    "name": "ipython",
    "version": 3
   },
   "file_extension": ".py",
   "mimetype": "text/x-python",
   "name": "python",
   "nbconvert_exporter": "python",
   "pygments_lexer": "ipython3",
   "version": "3.12.5"
  }
 },
 "nbformat": 4,
 "nbformat_minor": 2
}
